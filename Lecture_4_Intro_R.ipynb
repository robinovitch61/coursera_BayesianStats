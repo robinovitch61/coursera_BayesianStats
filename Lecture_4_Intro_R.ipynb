{
 "cells": [
  {
   "cell_type": "markdown",
   "metadata": {},
   "source": [
    "## Lecture 4: Intro to R\n",
    "Notes by Leo Robinovitch"
   ]
  },
  {
   "cell_type": "code",
   "execution_count": 1,
   "metadata": {},
   "outputs": [
    {
     "data": {
      "text/html": [
       "7"
      ],
      "text/latex": [
       "7"
      ],
      "text/markdown": [
       "7"
      ],
      "text/plain": [
       "[1] 7"
      ]
     },
     "metadata": {},
     "output_type": "display_data"
    }
   ],
   "source": [
    "1 + 2 * 3"
   ]
  },
  {
   "cell_type": "code",
   "execution_count": 2,
   "metadata": {},
   "outputs": [
    {
     "data": {
      "text/html": [
       "6"
      ],
      "text/latex": [
       "6"
      ],
      "text/markdown": [
       "6"
      ],
      "text/plain": [
       "[1] 6"
      ]
     },
     "metadata": {},
     "output_type": "display_data"
    }
   ],
   "source": [
    "x = 6\n",
    "x"
   ]
  },
  {
   "cell_type": "code",
   "execution_count": 3,
   "metadata": {},
   "outputs": [
    {
     "data": {
      "text/html": [
       "12.4"
      ],
      "text/latex": [
       "12.4"
      ],
      "text/markdown": [
       "12.4"
      ],
      "text/plain": [
       "[1] 12.4"
      ]
     },
     "metadata": {},
     "output_type": "display_data"
    }
   ],
   "source": [
    "total.revenue = 18.4\n",
    "expenses = x\n",
    "net.profit = total.revenue - expenses\n",
    "net.profit"
   ]
  },
  {
   "cell_type": "code",
   "execution_count": 4,
   "metadata": {},
   "outputs": [
    {
     "data": {
      "text/html": [
       "<ol class=list-inline>\n",
       "\t<li>2</li>\n",
       "\t<li>3</li>\n",
       "\t<li>4</li>\n",
       "\t<li>5</li>\n",
       "\t<li>6</li>\n",
       "</ol>\n"
      ],
      "text/latex": [
       "\\begin{enumerate*}\n",
       "\\item 2\n",
       "\\item 3\n",
       "\\item 4\n",
       "\\item 5\n",
       "\\item 6\n",
       "\\end{enumerate*}\n"
      ],
      "text/markdown": [
       "1. 2\n",
       "2. 3\n",
       "3. 4\n",
       "4. 5\n",
       "5. 6\n",
       "\n",
       "\n"
      ],
      "text/plain": [
       "[1] 2 3 4 5 6"
      ]
     },
     "metadata": {},
     "output_type": "display_data"
    }
   ],
   "source": [
    "# c function concatenates data into a vector\n",
    "z = c(2, 3, 4, 5, 6)\n",
    "z"
   ]
  },
  {
   "cell_type": "code",
   "execution_count": 5,
   "metadata": {},
   "outputs": [
    {
     "data": {
      "text/html": [
       "4"
      ],
      "text/latex": [
       "4"
      ],
      "text/markdown": [
       "4"
      ],
      "text/plain": [
       "[1] 4"
      ]
     },
     "metadata": {},
     "output_type": "display_data"
    }
   ],
   "source": [
    "mean(z)"
   ]
  },
  {
   "cell_type": "code",
   "execution_count": 6,
   "metadata": {},
   "outputs": [
    {
     "data": {
      "text/html": [
       "2.5"
      ],
      "text/latex": [
       "2.5"
      ],
      "text/markdown": [
       "2.5"
      ],
      "text/plain": [
       "[1] 2.5"
      ]
     },
     "metadata": {},
     "output_type": "display_data"
    }
   ],
   "source": [
    "var(z)"
   ]
  },
  {
   "cell_type": "code",
   "execution_count": 7,
   "metadata": {},
   "outputs": [
    {
     "data": {
      "text/html": [
       "1.58113883008419"
      ],
      "text/latex": [
       "1.58113883008419"
      ],
      "text/markdown": [
       "1.58113883008419"
      ],
      "text/plain": [
       "[1] 1.581139"
      ]
     },
     "metadata": {},
     "output_type": "display_data"
    }
   ],
   "source": [
    "sd(z)"
   ]
  },
  {
   "cell_type": "code",
   "execution_count": 8,
   "metadata": {},
   "outputs": [
    {
     "data": {
      "text/html": [
       "1.58113883008419"
      ],
      "text/latex": [
       "1.58113883008419"
      ],
      "text/markdown": [
       "1.58113883008419"
      ],
      "text/plain": [
       "[1] 1.581139"
      ]
     },
     "metadata": {},
     "output_type": "display_data"
    }
   ],
   "source": [
    "sqrt(var(z))"
   ]
  },
  {
   "cell_type": "code",
   "execution_count": 9,
   "metadata": {},
   "outputs": [
    {
     "data": {
      "text/html": [
       "<ol class=list-inline>\n",
       "\t<li>0.1</li>\n",
       "\t<li>0.2</li>\n",
       "\t<li>0.3</li>\n",
       "\t<li>0.4</li>\n",
       "\t<li>0.5</li>\n",
       "\t<li>0.6</li>\n",
       "\t<li>0.7</li>\n",
       "\t<li>0.8</li>\n",
       "\t<li>0.9</li>\n",
       "</ol>\n"
      ],
      "text/latex": [
       "\\begin{enumerate*}\n",
       "\\item 0.1\n",
       "\\item 0.2\n",
       "\\item 0.3\n",
       "\\item 0.4\n",
       "\\item 0.5\n",
       "\\item 0.6\n",
       "\\item 0.7\n",
       "\\item 0.8\n",
       "\\item 0.9\n",
       "\\end{enumerate*}\n"
      ],
      "text/markdown": [
       "1. 0.1\n",
       "2. 0.2\n",
       "3. 0.3\n",
       "4. 0.4\n",
       "5. 0.5\n",
       "6. 0.6\n",
       "7. 0.7\n",
       "8. 0.8\n",
       "9. 0.9\n",
       "\n",
       "\n"
      ],
      "text/plain": [
       "[1] 0.1 0.2 0.3 0.4 0.5 0.6 0.7 0.8 0.9"
      ]
     },
     "metadata": {},
     "output_type": "display_data"
    }
   ],
   "source": [
    "# seq function creates sequence\n",
    "seq(from=0.1, to=0.9, by=0.1)"
   ]
  },
  {
   "cell_type": "code",
   "execution_count": 10,
   "metadata": {},
   "outputs": [
    {
     "data": {
      "text/html": [
       "<ol class=list-inline>\n",
       "\t<li>1</li>\n",
       "\t<li>2</li>\n",
       "\t<li>3</li>\n",
       "\t<li>4</li>\n",
       "\t<li>5</li>\n",
       "\t<li>6</li>\n",
       "\t<li>7</li>\n",
       "\t<li>8</li>\n",
       "\t<li>9</li>\n",
       "\t<li>10</li>\n",
       "</ol>\n"
      ],
      "text/latex": [
       "\\begin{enumerate*}\n",
       "\\item 1\n",
       "\\item 2\n",
       "\\item 3\n",
       "\\item 4\n",
       "\\item 5\n",
       "\\item 6\n",
       "\\item 7\n",
       "\\item 8\n",
       "\\item 9\n",
       "\\item 10\n",
       "\\end{enumerate*}\n"
      ],
      "text/markdown": [
       "1. 1\n",
       "2. 2\n",
       "3. 3\n",
       "4. 4\n",
       "5. 5\n",
       "6. 6\n",
       "7. 7\n",
       "8. 8\n",
       "9. 9\n",
       "10. 10\n",
       "\n",
       "\n"
      ],
      "text/plain": [
       " [1]  1  2  3  4  5  6  7  8  9 10"
      ]
     },
     "metadata": {},
     "output_type": "display_data"
    }
   ],
   "source": [
    "seq(1, 10)"
   ]
  },
  {
   "cell_type": "code",
   "execution_count": 11,
   "metadata": {
    "scrolled": true
   },
   "outputs": [
    {
     "data": {
      "text/html": [
       "<table>\n",
       "<thead><tr><th scope=col>Girth</th><th scope=col>Height</th><th scope=col>Volume</th></tr></thead>\n",
       "<tbody>\n",
       "\t<tr><td> 8.3</td><td>70  </td><td>10.3</td></tr>\n",
       "\t<tr><td> 8.6</td><td>65  </td><td>10.3</td></tr>\n",
       "\t<tr><td> 8.8</td><td>63  </td><td>10.2</td></tr>\n",
       "\t<tr><td>10.5</td><td>72  </td><td>16.4</td></tr>\n",
       "\t<tr><td>10.7</td><td>81  </td><td>18.8</td></tr>\n",
       "\t<tr><td>10.8</td><td>83  </td><td>19.7</td></tr>\n",
       "\t<tr><td>11.0</td><td>66  </td><td>15.6</td></tr>\n",
       "\t<tr><td>11.0</td><td>75  </td><td>18.2</td></tr>\n",
       "\t<tr><td>11.1</td><td>80  </td><td>22.6</td></tr>\n",
       "\t<tr><td>11.2</td><td>75  </td><td>19.9</td></tr>\n",
       "\t<tr><td>11.3</td><td>79  </td><td>24.2</td></tr>\n",
       "\t<tr><td>11.4</td><td>76  </td><td>21.0</td></tr>\n",
       "\t<tr><td>11.4</td><td>76  </td><td>21.4</td></tr>\n",
       "\t<tr><td>11.7</td><td>69  </td><td>21.3</td></tr>\n",
       "\t<tr><td>12.0</td><td>75  </td><td>19.1</td></tr>\n",
       "\t<tr><td>12.9</td><td>74  </td><td>22.2</td></tr>\n",
       "\t<tr><td>12.9</td><td>85  </td><td>33.8</td></tr>\n",
       "\t<tr><td>13.3</td><td>86  </td><td>27.4</td></tr>\n",
       "\t<tr><td>13.7</td><td>71  </td><td>25.7</td></tr>\n",
       "\t<tr><td>13.8</td><td>64  </td><td>24.9</td></tr>\n",
       "\t<tr><td>14.0</td><td>78  </td><td>34.5</td></tr>\n",
       "\t<tr><td>14.2</td><td>80  </td><td>31.7</td></tr>\n",
       "\t<tr><td>14.5</td><td>74  </td><td>36.3</td></tr>\n",
       "\t<tr><td>16.0</td><td>72  </td><td>38.3</td></tr>\n",
       "\t<tr><td>16.3</td><td>77  </td><td>42.6</td></tr>\n",
       "\t<tr><td>17.3</td><td>81  </td><td>55.4</td></tr>\n",
       "\t<tr><td>17.5</td><td>82  </td><td>55.7</td></tr>\n",
       "\t<tr><td>17.9</td><td>80  </td><td>58.3</td></tr>\n",
       "\t<tr><td>18.0</td><td>80  </td><td>51.5</td></tr>\n",
       "\t<tr><td>18.0</td><td>80  </td><td>51.0</td></tr>\n",
       "\t<tr><td>20.6</td><td>87  </td><td>77.0</td></tr>\n",
       "</tbody>\n",
       "</table>\n"
      ],
      "text/latex": [
       "\\begin{tabular}{r|lll}\n",
       " Girth & Height & Volume\\\\\n",
       "\\hline\n",
       "\t  8.3 & 70   & 10.3\\\\\n",
       "\t  8.6 & 65   & 10.3\\\\\n",
       "\t  8.8 & 63   & 10.2\\\\\n",
       "\t 10.5 & 72   & 16.4\\\\\n",
       "\t 10.7 & 81   & 18.8\\\\\n",
       "\t 10.8 & 83   & 19.7\\\\\n",
       "\t 11.0 & 66   & 15.6\\\\\n",
       "\t 11.0 & 75   & 18.2\\\\\n",
       "\t 11.1 & 80   & 22.6\\\\\n",
       "\t 11.2 & 75   & 19.9\\\\\n",
       "\t 11.3 & 79   & 24.2\\\\\n",
       "\t 11.4 & 76   & 21.0\\\\\n",
       "\t 11.4 & 76   & 21.4\\\\\n",
       "\t 11.7 & 69   & 21.3\\\\\n",
       "\t 12.0 & 75   & 19.1\\\\\n",
       "\t 12.9 & 74   & 22.2\\\\\n",
       "\t 12.9 & 85   & 33.8\\\\\n",
       "\t 13.3 & 86   & 27.4\\\\\n",
       "\t 13.7 & 71   & 25.7\\\\\n",
       "\t 13.8 & 64   & 24.9\\\\\n",
       "\t 14.0 & 78   & 34.5\\\\\n",
       "\t 14.2 & 80   & 31.7\\\\\n",
       "\t 14.5 & 74   & 36.3\\\\\n",
       "\t 16.0 & 72   & 38.3\\\\\n",
       "\t 16.3 & 77   & 42.6\\\\\n",
       "\t 17.3 & 81   & 55.4\\\\\n",
       "\t 17.5 & 82   & 55.7\\\\\n",
       "\t 17.9 & 80   & 58.3\\\\\n",
       "\t 18.0 & 80   & 51.5\\\\\n",
       "\t 18.0 & 80   & 51.0\\\\\n",
       "\t 20.6 & 87   & 77.0\\\\\n",
       "\\end{tabular}\n"
      ],
      "text/markdown": [
       "\n",
       "Girth | Height | Volume | \n",
       "|---|---|---|---|---|---|---|---|---|---|---|---|---|---|---|---|---|---|---|---|---|---|---|---|---|---|---|---|---|---|---|\n",
       "|  8.3 | 70   | 10.3 | \n",
       "|  8.6 | 65   | 10.3 | \n",
       "|  8.8 | 63   | 10.2 | \n",
       "| 10.5 | 72   | 16.4 | \n",
       "| 10.7 | 81   | 18.8 | \n",
       "| 10.8 | 83   | 19.7 | \n",
       "| 11.0 | 66   | 15.6 | \n",
       "| 11.0 | 75   | 18.2 | \n",
       "| 11.1 | 80   | 22.6 | \n",
       "| 11.2 | 75   | 19.9 | \n",
       "| 11.3 | 79   | 24.2 | \n",
       "| 11.4 | 76   | 21.0 | \n",
       "| 11.4 | 76   | 21.4 | \n",
       "| 11.7 | 69   | 21.3 | \n",
       "| 12.0 | 75   | 19.1 | \n",
       "| 12.9 | 74   | 22.2 | \n",
       "| 12.9 | 85   | 33.8 | \n",
       "| 13.3 | 86   | 27.4 | \n",
       "| 13.7 | 71   | 25.7 | \n",
       "| 13.8 | 64   | 24.9 | \n",
       "| 14.0 | 78   | 34.5 | \n",
       "| 14.2 | 80   | 31.7 | \n",
       "| 14.5 | 74   | 36.3 | \n",
       "| 16.0 | 72   | 38.3 | \n",
       "| 16.3 | 77   | 42.6 | \n",
       "| 17.3 | 81   | 55.4 | \n",
       "| 17.5 | 82   | 55.7 | \n",
       "| 17.9 | 80   | 58.3 | \n",
       "| 18.0 | 80   | 51.5 | \n",
       "| 18.0 | 80   | 51.0 | \n",
       "| 20.6 | 87   | 77.0 | \n",
       "\n",
       "\n"
      ],
      "text/plain": [
       "   Girth Height Volume\n",
       "1   8.3  70     10.3  \n",
       "2   8.6  65     10.3  \n",
       "3   8.8  63     10.2  \n",
       "4  10.5  72     16.4  \n",
       "5  10.7  81     18.8  \n",
       "6  10.8  83     19.7  \n",
       "7  11.0  66     15.6  \n",
       "8  11.0  75     18.2  \n",
       "9  11.1  80     22.6  \n",
       "10 11.2  75     19.9  \n",
       "11 11.3  79     24.2  \n",
       "12 11.4  76     21.0  \n",
       "13 11.4  76     21.4  \n",
       "14 11.7  69     21.3  \n",
       "15 12.0  75     19.1  \n",
       "16 12.9  74     22.2  \n",
       "17 12.9  85     33.8  \n",
       "18 13.3  86     27.4  \n",
       "19 13.7  71     25.7  \n",
       "20 13.8  64     24.9  \n",
       "21 14.0  78     34.5  \n",
       "22 14.2  80     31.7  \n",
       "23 14.5  74     36.3  \n",
       "24 16.0  72     38.3  \n",
       "25 16.3  77     42.6  \n",
       "26 17.3  81     55.4  \n",
       "27 17.5  82     55.7  \n",
       "28 17.9  80     58.3  \n",
       "29 18.0  80     51.5  \n",
       "30 18.0  80     51.0  \n",
       "31 20.6  87     77.0  "
      ]
     },
     "metadata": {},
     "output_type": "display_data"
    }
   ],
   "source": [
    "# built-in data sets:\n",
    "trees"
   ]
  },
  {
   "cell_type": "code",
   "execution_count": 12,
   "metadata": {
    "collapsed": true
   },
   "outputs": [],
   "source": [
    "help(trees)"
   ]
  },
  {
   "cell_type": "code",
   "execution_count": 13,
   "metadata": {
    "collapsed": true
   },
   "outputs": [],
   "source": [
    "# look in trees object for other additional names:\n",
    "attach(trees)"
   ]
  },
  {
   "cell_type": "code",
   "execution_count": 16,
   "metadata": {},
   "outputs": [
    {
     "data": {
      "text/html": [
       "<ol class=list-inline>\n",
       "\t<li>'Girth'</li>\n",
       "\t<li>'Height'</li>\n",
       "\t<li>'Volume'</li>\n",
       "</ol>\n"
      ],
      "text/latex": [
       "\\begin{enumerate*}\n",
       "\\item 'Girth'\n",
       "\\item 'Height'\n",
       "\\item 'Volume'\n",
       "\\end{enumerate*}\n"
      ],
      "text/markdown": [
       "1. 'Girth'\n",
       "2. 'Height'\n",
       "3. 'Volume'\n",
       "\n",
       "\n"
      ],
      "text/plain": [
       "[1] \"Girth\"  \"Height\" \"Volume\""
      ]
     },
     "metadata": {},
     "output_type": "display_data"
    }
   ],
   "source": [
    "names(trees)"
   ]
  },
  {
   "cell_type": "code",
   "execution_count": 18,
   "metadata": {},
   "outputs": [
    {
     "data": {
      "image/png": "[encoded data removed]",
      "text/plain": [
       "Plot with title “Histogram of Girth”"
      ]
     },
     "metadata": {},
     "output_type": "display_data"
    }
   ],
   "source": [
    "hist(Girth)"
   ]
  },
  {
   "cell_type": "code",
   "execution_count": 20,
   "metadata": {},
   "outputs": [
    {
     "data": {
      "image/png": "[encoded data removed]",
      "text/plain": [
       "plot without title"
      ]
     },
     "metadata": {},
     "output_type": "display_data"
    }
   ],
   "source": [
    "plot(Girth, Height)"
   ]
  },
  {
   "cell_type": "code",
   "execution_count": 23,
   "metadata": {},
   "outputs": [
    {
     "data": {
      "image/png": "[encoded data removed]",
      "text/plain": [
       "plot without title"
      ]
     },
     "metadata": {},
     "output_type": "display_data"
    }
   ],
   "source": [
    "# make all possible pair-wise scatter plots\n",
    "pairs(trees)"
   ]
  },
  {
   "cell_type": "code",
   "execution_count": 24,
   "metadata": {},
   "outputs": [
    {
     "data": {
      "text/plain": [
       "     Girth           Height       Volume     \n",
       " Min.   : 8.30   Min.   :63   Min.   :10.20  \n",
       " 1st Qu.:11.05   1st Qu.:72   1st Qu.:19.40  \n",
       " Median :12.90   Median :76   Median :24.20  \n",
       " Mean   :13.25   Mean   :76   Mean   :30.17  \n",
       " 3rd Qu.:15.25   3rd Qu.:80   3rd Qu.:37.30  \n",
       " Max.   :20.60   Max.   :87   Max.   :77.00  "
      ]
     },
     "metadata": {},
     "output_type": "display_data"
    }
   ],
   "source": [
    "summary(trees)"
   ]
  },
  {
   "cell_type": "code",
   "execution_count": 29,
   "metadata": {},
   "outputs": [
    {
     "data": {
      "image/png": "[encoded data removed]",
      "text/plain": [
       "plot without title"
      ]
     },
     "metadata": {},
     "output_type": "display_data"
    }
   ],
   "source": [
    "# specifying function\n",
    "likelihood = function(n, y, theta){return(theta^y * (1 - theta)^(n-y))}\n",
    "theta = seq(0.01, 0.99, 0.01)\n",
    "plot(theta, likelihood(400, 72, theta))\n",
    "\n",
    "# add vertical line:\n",
    "abline(v = 72 / 400)"
   ]
  },
  {
   "cell_type": "code",
   "execution_count": 35,
   "metadata": {},
   "outputs": [
    {
     "data": {
      "image/png": "[encoded data removed]",
      "text/plain": [
       "plot without title"
      ]
     },
     "metadata": {},
     "output_type": "display_data"
    }
   ],
   "source": [
    "# log-likelihood:\n",
    "loglike = function(n, y, theta){return(y * log(theta) + (n - y) * log(1 - theta))}\n",
    "plot(theta, loglike(400, 72, theta), type = \"l\") # type specs line plot\n",
    "abline(v = 72 / 400)"
   ]
  }
 ],
 "metadata": {
  "kernelspec": {
   "display_name": "R",
   "language": "R",
   "name": "ir"
  },
  "language_info": {
   "codemirror_mode": "r",
   "file_extension": ".r",
   "mimetype": "text/x-r-source",
   "name": "R",
   "pygments_lexer": "r",
   "version": "3.4.0"
  }
 },
 "nbformat": 4,
 "nbformat_minor": 2
}
